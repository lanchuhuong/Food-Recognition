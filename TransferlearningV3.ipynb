{
  "nbformat": 4,
  "nbformat_minor": 0,
  "metadata": {
    "colab": {
      "name": "TransferlearningV3.ipynb",
      "provenance": [],
      "authorship_tag": "ABX9TyMRSkTz+5l+bJ6j3E/el9DD",
      "include_colab_link": true
    },
    "kernelspec": {
      "name": "python3",
      "display_name": "Python 3"
    },
    "language_info": {
      "name": "python"
    },
    "accelerator": "GPU"
  },
  "cells": [
    {
      "cell_type": "markdown",
      "metadata": {
        "id": "view-in-github",
        "colab_type": "text"
      },
      "source": [
        "<a href=\"https://colab.research.google.com/github/lanchuhuong/Food-Recognition/blob/main/TransferlearningV3.ipynb\" target=\"_parent\"><img src=\"https://colab.research.google.com/assets/colab-badge.svg\" alt=\"Open In Colab\"/></a>"
      ]
    },
    {
      "cell_type": "code",
      "execution_count": null,
      "metadata": {
        "id": "3MC_6KMUcz0g"
      },
      "outputs": [],
      "source": [
        "import pandas as pd\n",
        "import numpy as np\n",
        "from sklearn import preprocessing, metrics\n",
        "import matplotlib.pyplot as plt\n",
        "from sklearn import preprocessing\n",
        "from sklearn.model_selection import KFold\n",
        "pd.set_option('display.max_columns', 50)\n",
        "import re\n",
        "import timeit\n",
        "import random\n",
        "random.seed(3)\n",
        "import seaborn as sns\n",
        "from tqdm.notebook import tqdm\n",
        "from pathlib import Path\n",
        "from sklearn.metrics import r2_score\n",
        "import os\n",
        "import random\n",
        "import datetime\n",
        "import re\n",
        "import math\n",
        "import logging\n",
        "from collections import OrderedDict\n",
        "import multiprocessing\n",
        "import numpy as np\n",
        "import skimage.transform\n",
        "import tensorflow as tf\n",
        "import keras\n",
        "import keras.backend as K\n",
        "import keras.layers as KL\n",
        "import keras.engine as KE\n",
        "import keras.models as KM\n",
        "from keras.callbacks import EarlyStopping"
      ]
    },
    {
      "cell_type": "code",
      "source": [
        "device_name = tf.test.gpu_device_name()\n",
        "if device_name != '/device:GPU:0':\n",
        "  print(\n",
        "      '\\n\\nThis error most likely means that this notebook is not '\n",
        "      'configured to use a GPU.  Change this in Notebook Settings via the '\n",
        "      'command palette (cmd/ctrl-shift-P) or the Edit menu.\\n\\n')\n",
        "  raise SystemError('GPU device not found')"
      ],
      "metadata": {
        "id": "xiGP3CR0kPvB"
      },
      "execution_count": null,
      "outputs": []
    },
    {
      "cell_type": "code",
      "source": [
        "!pip uninstall -y kaggle\n",
        "!pip install --upgrade pip\n",
        "!pip install kaggle==1.5.6"
      ],
      "metadata": {
        "colab": {
          "base_uri": "https://localhost:8080/"
        },
        "id": "WaviWDDyekHu",
        "outputId": "751ad60a-bc24-4fd2-c8b5-c679e031bb49"
      },
      "execution_count": null,
      "outputs": [
        {
          "output_type": "stream",
          "name": "stdout",
          "text": [
            "Found existing installation: kaggle 1.5.12\n",
            "Uninstalling kaggle-1.5.12:\n",
            "  Successfully uninstalled kaggle-1.5.12\n",
            "Requirement already satisfied: pip in /usr/local/lib/python3.7/dist-packages (21.1.3)\n",
            "Collecting pip\n",
            "  Downloading pip-21.3.1-py3-none-any.whl (1.7 MB)\n",
            "\u001b[K     |████████████████████████████████| 1.7 MB 6.0 MB/s \n",
            "\u001b[?25hInstalling collected packages: pip\n",
            "  Attempting uninstall: pip\n",
            "    Found existing installation: pip 21.1.3\n",
            "    Uninstalling pip-21.1.3:\n",
            "      Successfully uninstalled pip-21.1.3\n",
            "Successfully installed pip-21.3.1\n",
            "Collecting kaggle==1.5.6\n",
            "  Downloading kaggle-1.5.6.tar.gz (58 kB)\n",
            "     |████████████████████████████████| 58 kB 3.0 MB/s             \n",
            "\u001b[?25h  Preparing metadata (setup.py) ... \u001b[?25l\u001b[?25hdone\n",
            "Requirement already satisfied: urllib3<1.25,>=1.21.1 in /usr/local/lib/python3.7/dist-packages (from kaggle==1.5.6) (1.24.3)\n",
            "Requirement already satisfied: six>=1.10 in /usr/local/lib/python3.7/dist-packages (from kaggle==1.5.6) (1.15.0)\n",
            "Requirement already satisfied: certifi in /usr/local/lib/python3.7/dist-packages (from kaggle==1.5.6) (2021.10.8)\n",
            "Requirement already satisfied: python-dateutil in /usr/local/lib/python3.7/dist-packages (from kaggle==1.5.6) (2.8.2)\n",
            "Requirement already satisfied: requests in /usr/local/lib/python3.7/dist-packages (from kaggle==1.5.6) (2.23.0)\n",
            "Requirement already satisfied: tqdm in /usr/local/lib/python3.7/dist-packages (from kaggle==1.5.6) (4.62.3)\n",
            "Requirement already satisfied: python-slugify in /usr/local/lib/python3.7/dist-packages (from kaggle==1.5.6) (5.0.2)\n",
            "Requirement already satisfied: text-unidecode>=1.3 in /usr/local/lib/python3.7/dist-packages (from python-slugify->kaggle==1.5.6) (1.3)\n",
            "Requirement already satisfied: chardet<4,>=3.0.2 in /usr/local/lib/python3.7/dist-packages (from requests->kaggle==1.5.6) (3.0.4)\n",
            "Requirement already satisfied: idna<3,>=2.5 in /usr/local/lib/python3.7/dist-packages (from requests->kaggle==1.5.6) (2.10)\n",
            "Building wheels for collected packages: kaggle\n",
            "  Building wheel for kaggle (setup.py) ... \u001b[?25l\u001b[?25hdone\n",
            "  Created wheel for kaggle: filename=kaggle-1.5.6-py3-none-any.whl size=72857 sha256=36472f4b766e4a7d4b1288152b4a921da9b3b22483fe4237e2150e03561023e1\n",
            "  Stored in directory: /root/.cache/pip/wheels/aa/e7/e7/eb3c3d514c33294d77ddd5a856bdd58dc9c1fabbed59a02a2b\n",
            "Successfully built kaggle\n",
            "Installing collected packages: kaggle\n",
            "Successfully installed kaggle-1.5.6\n",
            "\u001b[33mWARNING: Running pip as the 'root' user can result in broken permissions and conflicting behaviour with the system package manager. It is recommended to use a virtual environment instead: https://pip.pypa.io/warnings/venv\u001b[0m\n"
          ]
        }
      ]
    },
    {
      "cell_type": "code",
      "source": [
        "!mkdir ~/.kaggle\n",
        "!echo '{\"username\":\"lanchu\",\"key\":\"004e7e514e204a75f54db6f58796d439\"}' > ~/.kaggle/kaggle.json\n",
        "!chmod 600 ~/.kaggle/kaggle.json\n",
        "!kaggle competitions download -c food-recognition-challenge-2021 -p data"
      ],
      "metadata": {
        "colab": {
          "base_uri": "https://localhost:8080/"
        },
        "id": "KzCkEqzyc8mL",
        "outputId": "ef542945-c29d-4810-f59e-53f96f73d976"
      },
      "execution_count": null,
      "outputs": [
        {
          "output_type": "stream",
          "name": "stdout",
          "text": [
            "mkdir: cannot create directory ‘/root/.kaggle’: File exists\n",
            "Warning: Your Kaggle API key is readable by other users on this system! To fix this, you can run 'chmod 600 /root/.kaggle/kaggle.json'\n",
            "Downloading food-recognition-challenge-2021.zip to data\n",
            " 97% 681M/699M [00:07<00:00, 107MB/s]\n",
            "100% 699M/699M [00:08<00:00, 91.3MB/s]\n"
          ]
        }
      ]
    },
    {
      "cell_type": "code",
      "source": [
        "!unzip data/food-recognition-challenge-2021.zip -d data/"
      ],
      "metadata": {
        "id": "0Ib5mZNudHzm"
      },
      "execution_count": null,
      "outputs": []
    },
    {
      "cell_type": "code",
      "source": [
        "labels = pd.read_csv('data/train_labels.csv').set_index('img_name')"
      ],
      "metadata": {
        "id": "-zTxIMWueNtI"
      },
      "execution_count": null,
      "outputs": []
    },
    {
      "cell_type": "code",
      "source": [
        "labels = labels.to_dict()\n",
        "labels = labels[list(labels.keys())[0]]\n",
        "\n",
        "print(f'lenght of dictionary: {len(labels)}')\n",
        "\n",
        "df = pd.DataFrame(list(labels.items()))\n",
        "df.columns = ['images', 'labels']\n",
        "df = df.astype({'labels': str})\n",
        "# Display the occurance of each class\n",
        "df.groupby('labels').count()\n"
      ],
      "metadata": {
        "id": "6xVwlUaWeYIX"
      },
      "execution_count": null,
      "outputs": []
    },
    {
      "cell_type": "code",
      "source": [
        "from sklearn.model_selection import cross_validate\n",
        "from sklearn.model_selection import train_test_split\n",
        "\n",
        "train_df, validation_df = train_test_split(df, test_size=0.2)\n",
        "print(f'train_df: {train_df.shape}')\n",
        "print(f'validation_df: {validation_df.shape}')"
      ],
      "metadata": {
        "colab": {
          "base_uri": "https://localhost:8080/"
        },
        "id": "QtVjdQt1hESA",
        "outputId": "ddd177fe-274f-4b11-850e-92ce463fc6f4"
      },
      "execution_count": null,
      "outputs": [
        {
          "output_type": "stream",
          "name": "stdout",
          "text": [
            "train_df: (24489, 2)\n",
            "validation_df: (6123, 2)\n"
          ]
        }
      ]
    },
    {
      "cell_type": "code",
      "source": [
        "train_datagen = keras.preprocessing.image.ImageDataGenerator(\n",
        "    rescale = 1./255,\n",
        "    rotation_range=15,\n",
        "    height_shift_range=0.1,\n",
        "    width_shift_range=0.1,\n",
        "    shear_range=0.01,\n",
        "    zoom_range=[0.9, 1.25],\n",
        "    brightness_range=[0.5, 1.5],\n",
        "    horizontal_flip=True,\n",
        "    vertical_flip=False,\n",
        "    fill_mode='reflect')\n",
        "\n",
        "validation_datagen = keras.preprocessing.image.ImageDataGenerator(\n",
        "    rescale = 1./255)\n",
        "\n",
        "train_generator = train_datagen.flow_from_dataframe(\n",
        "        dataframe=train_df,\n",
        "        directory='data/train_set/train_set',\n",
        "        x_col=\"images\",\n",
        "        y_col=\"labels\",\n",
        "        target_size=(256, 256),\n",
        "        batch_size=32,\n",
        "        class_mode='categorical')\n",
        "\n",
        "validation_generator = validation_datagen.flow_from_dataframe(\n",
        "        dataframe=validation_df,\n",
        "        directory='data/train_set/train_set',\n",
        "        x_col=\"images\",\n",
        "        y_col=\"labels\",\n",
        "        target_size=(256, 256),\n",
        "        batch_size=32,\n",
        "        class_mode='categorical')"
      ],
      "metadata": {
        "colab": {
          "base_uri": "https://localhost:8080/"
        },
        "id": "on_N-K-ghGPl",
        "outputId": "ab4931fd-312c-4004-ce9c-668a3bc56c2e"
      },
      "execution_count": null,
      "outputs": [
        {
          "output_type": "stream",
          "name": "stdout",
          "text": [
            "Found 24489 validated image filenames belonging to 80 classes.\n",
            "Found 6123 validated image filenames belonging to 80 classes.\n"
          ]
        }
      ]
    },
    {
      "cell_type": "code",
      "source": [
        "from keras.applications.inception_v3 import InceptionV3\n",
        "from keras.preprocessing import image\n",
        "from keras.models import Model\n",
        "from keras.layers import Dense, GlobalAveragePooling2D, Input, Dropout, Flatten\n",
        "from tensorflow.keras.optimizers import SGD\n",
        "\n"
      ],
      "metadata": {
        "id": "2dW5ffOqhMaa"
      },
      "execution_count": null,
      "outputs": []
    },
    {
      "cell_type": "code",
      "source": [
        "# load the VGG16 network, ensuring the head FC layer sets are left\n",
        "# off\n",
        "base_model = InceptionV3(weights='imagenet', include_top=False, input_shape = (256,256,3))\n",
        "\n",
        "# baseModel = InceptionV3(weights=\"imagenet\", include_top=False,\n",
        "#     input_tensor=Input(shape=(256, 256, 3)))\n",
        "# construct the head of the model that will be placed on top of the\n",
        "# # the base model\n",
        "# headModel = baseModel.output\n",
        "# headModel = Flatten(name=\"flatten\")(headModel)\n",
        "# headModel = Dense(512, activation=\"relu\")(headModel)\n",
        "# headModel = Dropout(0.5)(headModel)\n",
        "# headModel = Dense(80, activation=\"softmax\")(headModel)\n",
        "# # place the head FC model on top of the base model (this will become\n",
        "# # the actual model we will train)\n",
        "\n",
        "# model = Model(inputs=baseModel.input, outputs=headModel)\n",
        "\n",
        "output = base_model.output\n",
        "\n",
        "output = Flatten(name=\"flatten\")(output)\n",
        "predictions = Dense(80, activation='softmax')(output) #the output would be between 0-1 => confidence level , the output of the base layer\n",
        "model = Model(inputs=base_model.input, outputs=predictions)\n",
        "              \n",
        "for layer in base_model.layers:\n",
        "    layer.trainable = False\n",
        "\n",
        "opt = SGD(learning_rate=1e-4, momentum=0.9)\n",
        "\n",
        "model.compile(loss=\"categorical_crossentropy\", optimizer=opt,\n",
        "    metrics=[\"accuracy\"])\n",
        "\n",
        "step_size_train=train_generator.n//train_generator.batch_size\n",
        "step_size_val=validation_generator.n//train_generator.batch_size\n",
        "\n",
        "history = model.fit(x=train_generator,\n",
        "                   steps_per_epoch=step_size_train,\n",
        "                   epochs=8,\n",
        "                    validation_data = validation_generator,\n",
        "                    validation_steps = step_size_val)"
      ],
      "metadata": {
        "colab": {
          "base_uri": "https://localhost:8080/"
        },
        "id": "x-WK4GSRhPKf",
        "outputId": "106ba118-24aa-4a93-bc2c-3b6b51ba6015"
      },
      "execution_count": null,
      "outputs": [
        {
          "output_type": "stream",
          "name": "stdout",
          "text": [
            "Downloading data from https://storage.googleapis.com/tensorflow/keras-applications/inception_v3/inception_v3_weights_tf_dim_ordering_tf_kernels_notop.h5\n",
            "87916544/87910968 [==============================] - 1s 0us/step\n",
            "87924736/87910968 [==============================] - 1s 0us/step\n",
            "Epoch 1/8\n",
            "765/765 [==============================] - 534s 678ms/step - loss: 3.2417 - accuracy: 0.2491 - val_loss: 2.5799 - val_accuracy: 0.3835\n",
            "Epoch 2/8\n",
            "765/765 [==============================] - 521s 680ms/step - loss: 2.4680 - accuracy: 0.3931 - val_loss: 2.3913 - val_accuracy: 0.4203\n",
            "Epoch 3/8\n",
            "765/765 [==============================] - 522s 682ms/step - loss: 2.2218 - accuracy: 0.4421 - val_loss: 2.3424 - val_accuracy: 0.4357\n",
            "Epoch 4/8\n",
            "765/765 [==============================] - 517s 676ms/step - loss: 2.0545 - accuracy: 0.4765 - val_loss: 2.2955 - val_accuracy: 0.4458\n",
            "Epoch 5/8\n",
            "765/765 [==============================] - 527s 689ms/step - loss: 1.9328 - accuracy: 0.5017 - val_loss: 2.2607 - val_accuracy: 0.4580\n",
            "Epoch 6/8\n",
            "765/765 [==============================] - 536s 700ms/step - loss: 1.8295 - accuracy: 0.5245 - val_loss: 2.2685 - val_accuracy: 0.4542\n",
            "Epoch 7/8\n",
            "765/765 [==============================] - 530s 692ms/step - loss: 1.7427 - accuracy: 0.5440 - val_loss: 2.2198 - val_accuracy: 0.4624\n",
            "Epoch 8/8\n",
            "765/765 [==============================] - 518s 677ms/step - loss: 1.6642 - accuracy: 0.5582 - val_loss: 2.2188 - val_accuracy: 0.4679\n"
          ]
        }
      ]
    }
  ]
}